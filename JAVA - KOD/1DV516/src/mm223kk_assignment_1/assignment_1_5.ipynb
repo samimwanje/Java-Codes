{
 "cells": [
  {
   "cell_type": "markdown",
   "metadata": {},
   "source": [
    "Author: Sami Mwanje, \n",
    "mm223kk@student.lnu.se"
   ]
  },
  {
   "cell_type": "markdown",
   "metadata": {},
   "source": [
    "<b> Problem 5 </b> Implement the first variant of UnionFind (quick find)."
   ]
  },
  {
   "cell_type": "markdown",
   "metadata": {},
   "source": [
    "I implemented \"UnionFind\" using mostly for-loops.\n",
    "\n",
    "The function used here are the constructor, union, connected, find, root, toString and setUnion."
   ]
  },
  {
   "cell_type": "markdown",
   "metadata": {},
   "source": [
    "<b> 1. \"Problem_5_UnionFind(int elements)\" </b> constructor  is used to generate union find array.\n",
    "\n",
    "The array contains \"int elements\" which is set on the decleration of the class."
   ]
  },
  {
   "cell_type": "markdown",
   "metadata": {},
   "source": [
    "<b> 2. \"union(int x, int y)\" </b> is used to union two elements int the array. \n",
    "\n",
    "Elements x is joined with element y.\n",
    "\n",
    "This is done using a for-loop changes the value of the and changes is to element y."
   ]
  },
  {
   "cell_type": "markdown",
   "metadata": {},
   "source": [
    "<b> 3. \"connected(int x, int y)\" </b> is used to check if two elements are connected. \n",
    "\n",
    "The value of element x and y is checked if they are the same. \n",
    "\n",
    "If the are connected returns true."
   ]
  },
  {
   "cell_type": "markdown",
   "metadata": {},
   "source": [
    "<b>4. \"find(int x)\" </b>  returns a print of the elements x's corresponding group.\n",
    "\n",
    "The out print may look like this: {y, x ,z}."
   ]
  },
  {
   "cell_type": "markdown",
   "metadata": {},
   "source": [
    "<b>5. root(int x) </b> Is used to return the root of the element x.\n",
    "\n",
    "The method is runing in a while loop which goes backwards until the root is found."
   ]
  },
  {
   "cell_type": "markdown",
   "metadata": {},
   "source": [
    "<b>6. \"toString()\" </b>, This function is used to print a nice out print of all the unioned groups.\n",
    "\n",
    "The out print may look like this: {y, x ,z} {a, b ,c} {o, u ,w}."
   ]
  }
 ],
 "metadata": {
  "kernelspec": {
   "display_name": "Python 3.8.8 ('base')",
   "language": "python",
   "name": "python3"
  },
  "language_info": {
   "name": "python",
   "version": "3.8.8"
  },
  "orig_nbformat": 4,
  "vscode": {
   "interpreter": {
    "hash": "7e551358aee86a69aef693f7da0ddb4f4dd586d41867e06372ce040678483a8f"
   }
  }
 },
 "nbformat": 4,
 "nbformat_minor": 2
}
