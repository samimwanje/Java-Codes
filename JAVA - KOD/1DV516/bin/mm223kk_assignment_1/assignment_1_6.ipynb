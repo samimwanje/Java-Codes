{
 "cells": [
  {
   "cell_type": "markdown",
   "metadata": {},
   "source": [
    "Author: Sami Mwanje, \n",
    "mm223kk@student.lnu.se"
   ]
  },
  {
   "cell_type": "markdown",
   "metadata": {},
   "source": [
    "<b> Problem 6 </b> Implement one of the faster variants of UnionFind: quick union, weighted, or path compression.\n",
    "\n",
    "I here chose to use quick union. The difference between this and union find is that root(x) is called rather then\n",
    "\n",
    "looping though the elements in the array."
   ]
  },
  {
   "cell_type": "markdown",
   "metadata": {},
   "source": [
    "The major change is in \"union(x,y) and connected(x,y).\n",
    "\n",
    "Instead of iterating over all the elements in the array. \n",
    "\n",
    "In union(y,x), root(x) of element x is called and returns the root of y. \n",
    "\n",
    "Root of x is then changed to the same as root of y.\n",
    "\n",
    "In connected(x,y) root of x is compared to root of y. \n",
    "\n",
    "If they are not the same, the function returns false."
   ]
  }
 ],
 "metadata": {
  "kernelspec": {
   "display_name": "Python 3.8.8 ('base')",
   "language": "python",
   "name": "python3"
  },
  "language_info": {
   "name": "python",
   "version": "3.8.8"
  },
  "orig_nbformat": 4,
  "vscode": {
   "interpreter": {
    "hash": "7e551358aee86a69aef693f7da0ddb4f4dd586d41867e06372ce040678483a8f"
   }
  }
 },
 "nbformat": 4,
 "nbformat_minor": 2
}
